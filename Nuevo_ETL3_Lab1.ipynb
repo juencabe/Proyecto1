{
  "nbformat": 4,
  "nbformat_minor": 0,
  "metadata": {
    "colab": {
      "provenance": [],
      "authorship_tag": "ABX9TyPFJN7LaUuR1+kfHPzTbJHr",
      "include_colab_link": true
    },
    "kernelspec": {
      "name": "python3",
      "display_name": "Python 3"
    },
    "language_info": {
      "name": "python"
    }
  },
  "cells": [
    {
      "cell_type": "markdown",
      "metadata": {
        "id": "view-in-github",
        "colab_type": "text"
      },
      "source": [
        "<a href=\"https://colab.research.google.com/github/juencabe/Proyecto1/blob/main/Nuevo_ETL3_Lab1.ipynb\" target=\"_parent\"><img src=\"https://colab.research.google.com/assets/colab-badge.svg\" alt=\"Open In Colab\"/></a>"
      ]
    },
    {
      "cell_type": "code",
      "execution_count": 1,
      "metadata": {
        "id": "b30BvtxM1yVP"
      },
      "outputs": [],
      "source": [
        "# Importamos las librerias correspondientes\n",
        "import pandas as pd"
      ]
    },
    {
      "cell_type": "code",
      "source": [
        "# Importamos las librerias para trabajaer con Google Colaborate\n",
        "from google.colab import drive\n",
        "drive.mount(\"/content/drive\")"
      ],
      "metadata": {
        "colab": {
          "base_uri": "https://localhost:8080/"
        },
        "id": "esIrKjxtHFbf",
        "outputId": "8ab03e39-9455-4406-f643-7b379ae663b3"
      },
      "execution_count": 2,
      "outputs": [
        {
          "output_type": "stream",
          "name": "stdout",
          "text": [
            "Mounted at /content/drive\n"
          ]
        }
      ]
    },
    {
      "cell_type": "code",
      "source": [
        "# Cargamos los archivos correspondientes\n",
        "puntaje = pd.read_csv(\"/content/drive/MyDrive/Proyecto_Lab1/ratings/Total_ratings.csv\")\n",
        "peliculas = pd.read_csv(\"/content/drive/MyDrive/Proyecto_Lab1/TotalStream.csv\")"
      ],
      "metadata": {
        "id": "0UFJAfFJ2O9L"
      },
      "execution_count": 3,
      "outputs": []
    },
    {
      "cell_type": "code",
      "source": [
        "# Integramos las bases de datos\n",
        "puntaje_peliculas = pd.concat([puntaje,peliculas], axis=1)"
      ],
      "metadata": {
        "id": "679y8G1w2Sa7"
      },
      "execution_count": 4,
      "outputs": []
    },
    {
      "cell_type": "code",
      "source": [
        "# Revisamos los cambios realizados\n",
        "puntaje_peliculas.shape"
      ],
      "metadata": {
        "id": "BH3DDNRV2XVV",
        "colab": {
          "base_uri": "https://localhost:8080/"
        },
        "outputId": "ae6d74fa-a7cc-48b8-9b71-2f031543fb6c"
      },
      "execution_count": 5,
      "outputs": [
        {
          "output_type": "execute_result",
          "data": {
            "text/plain": [
              "(22998, 17)"
            ]
          },
          "metadata": {},
          "execution_count": 5
        }
      ]
    },
    {
      "cell_type": "code",
      "source": [
        "#Exportamos el archivo para su posterior utilización \n",
        "puntaje_peliculas.to_csv(\"/content/drive/MyDrive/Proyecto_Lab1/Total_Streaming.csv\", index=False)"
      ],
      "metadata": {
        "id": "YamU21Sg2aq1"
      },
      "execution_count": 6,
      "outputs": []
    }
  ]
}