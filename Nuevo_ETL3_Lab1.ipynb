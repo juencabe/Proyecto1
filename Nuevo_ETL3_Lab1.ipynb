{
  "nbformat": 4,
  "nbformat_minor": 0,
  "metadata": {
    "colab": {
      "provenance": [],
      "authorship_tag": "ABX9TyM3Vpk/LBep6FK419VUGF+8",
      "include_colab_link": true
    },
    "kernelspec": {
      "name": "python3",
      "display_name": "Python 3"
    },
    "language_info": {
      "name": "python"
    }
  },
  "cells": [
    {
      "cell_type": "markdown",
      "metadata": {
        "id": "view-in-github",
        "colab_type": "text"
      },
      "source": [
        "<a href=\"https://colab.research.google.com/github/juencabe/Proyecto1/blob/main/Nuevo_ETL3_Lab1.ipynb\" target=\"_parent\"><img src=\"https://colab.research.google.com/assets/colab-badge.svg\" alt=\"Open In Colab\"/></a>"
      ]
    },
    {
      "cell_type": "code",
      "execution_count": null,
      "metadata": {
        "id": "b30BvtxM1yVP"
      },
      "outputs": [],
      "source": [
        "import pandas as pd"
      ]
    },
    {
      "cell_type": "code",
      "source": [
        "from google.colab import drive\n",
        "drive.mount(\"/content/drive\")"
      ],
      "metadata": {
        "colab": {
          "base_uri": "https://localhost:8080/"
        },
        "id": "esIrKjxtHFbf",
        "outputId": "372d34bf-1cb7-4730-acaf-03eb27863d48"
      },
      "execution_count": null,
      "outputs": [
        {
          "output_type": "stream",
          "name": "stdout",
          "text": [
            "Mounted at /content/drive\n"
          ]
        }
      ]
    },
    {
      "cell_type": "code",
      "source": [
        "puntaje = pd.read_csv(\"/content/drive/MyDrive/Proyecto_Lab1/ratings/Total_ratings.csv\")\n",
        "peliculas = pd.read_csv(\"/content/drive/MyDrive/Proyecto_Lab1/TotalStream.csv\")"
      ],
      "metadata": {
        "id": "0UFJAfFJ2O9L"
      },
      "execution_count": null,
      "outputs": []
    },
    {
      "cell_type": "code",
      "source": [
        "#Unificamos los dataset\n",
        "puntaje_peliculas = pd.concat([puntaje,peliculas], axis=1)"
      ],
      "metadata": {
        "id": "679y8G1w2Sa7"
      },
      "execution_count": null,
      "outputs": []
    },
    {
      "cell_type": "code",
      "source": [
        "#Vemos la tabla\n",
        "puntaje_peliculas.shape"
      ],
      "metadata": {
        "id": "BH3DDNRV2XVV",
        "colab": {
          "base_uri": "https://localhost:8080/"
        },
        "outputId": "c99445a0-9610-4473-de8f-293859843cf0"
      },
      "execution_count": null,
      "outputs": [
        {
          "output_type": "execute_result",
          "data": {
            "text/plain": [
              "(22998, 17)"
            ]
          },
          "metadata": {},
          "execution_count": 6
        }
      ]
    },
    {
      "cell_type": "code",
      "source": [
        "#Exportamos para su utilización \n",
        "puntaje_peliculas.to_csv(\"/content/drive/MyDrive/Proyecto_Lab1/Total_Streaming.csv\", index=False)"
      ],
      "metadata": {
        "id": "YamU21Sg2aq1"
      },
      "execution_count": null,
      "outputs": []
    }
  ]
}