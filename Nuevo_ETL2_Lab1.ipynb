{
  "nbformat": 4,
  "nbformat_minor": 0,
  "metadata": {
    "colab": {
      "provenance": [],
      "authorship_tag": "ABX9TyMbf3WiiF+IkVjH+GAIoolZ",
      "include_colab_link": true
    },
    "kernelspec": {
      "name": "python3",
      "display_name": "Python 3"
    },
    "language_info": {
      "name": "python"
    }
  },
  "cells": [
    {
      "cell_type": "markdown",
      "metadata": {
        "id": "view-in-github",
        "colab_type": "text"
      },
      "source": [
        "<a href=\"https://colab.research.google.com/github/juencabe/Proyecto1/blob/main/Nuevo_ETL2_Lab1.ipynb\" target=\"_parent\"><img src=\"https://colab.research.google.com/assets/colab-badge.svg\" alt=\"Open In Colab\"/></a>"
      ]
    },
    {
      "cell_type": "code",
      "execution_count": 1,
      "metadata": {
        "id": "nDcqReMrWE8i"
      },
      "outputs": [],
      "source": [
        "# Importamos las librerias necesarias.\n",
        "import pandas as pd"
      ]
    },
    {
      "cell_type": "code",
      "source": [
        "# Importamos libreria para trabajar en Google Colaboratory\n",
        "from google.colab import drive\n",
        "drive.mount(\"/content/drive\")"
      ],
      "metadata": {
        "colab": {
          "base_uri": "https://localhost:8080/"
        },
        "id": "sNyz6OL6WmRL",
        "outputId": "292bd2c0-5d64-4ba0-c1e4-7d006b979e1b"
      },
      "execution_count": 2,
      "outputs": [
        {
          "output_type": "stream",
          "name": "stdout",
          "text": [
            "Mounted at /content/drive\n"
          ]
        }
      ]
    },
    {
      "cell_type": "code",
      "source": [
        "# Cargamos las bases de datos que contienen los ratings\n",
        "rating1 = pd.read_csv(\"/content/drive/MyDrive/Proyecto_Lab1/ratings/1.csv\")\n",
        "rating2 = pd.read_csv(\"/content/drive/MyDrive/Proyecto_Lab1/ratings/2.csv\")\n",
        "rating3 = pd.read_csv(\"/content/drive/MyDrive/Proyecto_Lab1/ratings/3.csv\")\n",
        "rating4 = pd.read_csv(\"/content/drive/MyDrive/Proyecto_Lab1/ratings/4.csv\")\n",
        "rating5 = pd.read_csv(\"/content/drive/MyDrive/Proyecto_Lab1/ratings/5.csv\")\n",
        "rating6 = pd.read_csv(\"/content/drive/MyDrive/Proyecto_Lab1/ratings/6.csv\")\n",
        "rating7 = pd.read_csv(\"/content/drive/MyDrive/Proyecto_Lab1/ratings/7.csv\")\n",
        "rating8 = pd.read_csv(\"/content/drive/MyDrive/Proyecto_Lab1/ratings/8.csv\")\n"
      ],
      "metadata": {
        "id": "tP5jITS4WpoP"
      },
      "execution_count": 3,
      "outputs": []
    },
    {
      "cell_type": "code",
      "source": [
        "# Verificamos la estructura de la información\n",
        "rating8.info()"
      ],
      "metadata": {
        "colab": {
          "base_uri": "https://localhost:8080/"
        },
        "id": "b0j73ruabAmy",
        "outputId": "40e25712-f384-47a6-bb89-261dde053524"
      },
      "execution_count": 4,
      "outputs": [
        {
          "output_type": "stream",
          "name": "stdout",
          "text": [
            "<class 'pandas.core.frame.DataFrame'>\n",
            "RangeIndex: 1500000 entries, 0 to 1499999\n",
            "Data columns (total 4 columns):\n",
            " #   Column     Non-Null Count    Dtype  \n",
            "---  ------     --------------    -----  \n",
            " 0   userId     1500000 non-null  int64  \n",
            " 1   rating     1500000 non-null  float64\n",
            " 2   timestamp  1500000 non-null  int64  \n",
            " 3   movieId    1500000 non-null  object \n",
            "dtypes: float64(1), int64(2), object(1)\n",
            "memory usage: 45.8+ MB\n"
          ]
        }
      ]
    },
    {
      "cell_type": "code",
      "source": [
        "# Realiamos la concatenación de todas las tablas\n",
        "Total_ratings = pd.concat ([rating1, rating2, rating3, rating4,rating5, rating6, rating7, rating8], axis=0)"
      ],
      "metadata": {
        "id": "2pTD7WscblI_"
      },
      "execution_count": 6,
      "outputs": []
    },
    {
      "cell_type": "code",
      "source": [
        "#Verificamos la estructura de la información\n",
        "Total_ratings.info()"
      ],
      "metadata": {
        "colab": {
          "base_uri": "https://localhost:8080/"
        },
        "id": "GOLjO8o4cFNy",
        "outputId": "2420b452-6040-4f29-d86f-fbf3898044d3"
      },
      "execution_count": 7,
      "outputs": [
        {
          "output_type": "stream",
          "name": "stdout",
          "text": [
            "<class 'pandas.core.frame.DataFrame'>\n",
            "Int64Index: 11024289 entries, 0 to 1499999\n",
            "Data columns (total 4 columns):\n",
            " #   Column     Dtype  \n",
            "---  ------     -----  \n",
            " 0   userId     int64  \n",
            " 1   rating     float64\n",
            " 2   timestamp  int64  \n",
            " 3   movieId    object \n",
            "dtypes: float64(1), int64(2), object(1)\n",
            "memory usage: 420.5+ MB\n"
          ]
        }
      ]
    },
    {
      "cell_type": "code",
      "source": [
        "#Sacamos el promedio de las calificaciones de las peliculas con el campos moviedId y el rating\n",
        "promedio_peliculas = Total_ratings.groupby(\"movieId\")[\"rating\"].mean().round(1)"
      ],
      "metadata": {
        "id": "z0uQ0S29caWA"
      },
      "execution_count": 8,
      "outputs": []
    },
    {
      "cell_type": "code",
      "source": [
        "#Realizamos la union de las 2 tablas\n",
        "tabla_union = Total_ratings.join(promedio_peliculas, on=\"movieId\", rsuffix=\"_avg\")"
      ],
      "metadata": {
        "id": "JzsKUcEZc0e3"
      },
      "execution_count": 9,
      "outputs": []
    },
    {
      "cell_type": "code",
      "source": [
        "#Eliminamos los duplicados que existen\n",
        "tabla_union = Total_ratings.drop_duplicates(subset=\"movieId\", keep=\"first\")"
      ],
      "metadata": {
        "id": "rWx2TdDwc-S_"
      },
      "execution_count": 10,
      "outputs": []
    },
    {
      "cell_type": "code",
      "source": [
        "# Verificamos los camios realizados\n",
        "tabla_union.shape"
      ],
      "metadata": {
        "colab": {
          "base_uri": "https://localhost:8080/"
        },
        "id": "ntBv6cmHddqe",
        "outputId": "5cff2c5d-e813-4c27-978a-3ac325ae8d18"
      },
      "execution_count": 13,
      "outputs": [
        {
          "output_type": "execute_result",
          "data": {
            "text/plain": [
              "(22998, 4)"
            ]
          },
          "metadata": {},
          "execution_count": 13
        }
      ]
    },
    {
      "cell_type": "code",
      "source": [
        "#Renombramos el campo rating por score\n",
        "tabla_union = tabla_union.rename(columns={\"rating\":\"score\"})"
      ],
      "metadata": {
        "id": "ycTLiJAVdn3U"
      },
      "execution_count": 14,
      "outputs": []
    },
    {
      "cell_type": "code",
      "source": [
        "#Exportamos la base de datos para posterior utilización\n",
        "tabla_union.to_csv(\"/content/drive/MyDrive/Proyecto_Lab1/ratings/Total_ratings.csv\", index=False)"
      ],
      "metadata": {
        "id": "NVPKuaT2eEmD"
      },
      "execution_count": 16,
      "outputs": []
    }
  ]
}